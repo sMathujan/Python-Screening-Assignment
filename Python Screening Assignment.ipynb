{
 "cells": [
  {
   "cell_type": "code",
   "execution_count": 14,
   "metadata": {},
   "outputs": [],
   "source": [
    "# 1. Create a function in python to read the text file and replace specific content of the file.\n",
    "\n",
    "def replace_content(txtFile, originString, replaceString):\n",
    "    \"\"\"Python function named replace_content takes .txt file as\n",
    "       one of the input and replace the origin string by replace \n",
    "       string\"\"\"\n",
    "    # read input file\n",
    "    fin = open(txtFile, 'rt')\n",
    "\n",
    "    # read file contents to string\n",
    "    data = fin.read()\n",
    "\n",
    "    # replace all occurrences of the required string\n",
    "    data = data.replace(originString, replaceString)\n",
    "\n",
    "    # close the input file\n",
    "    fin.close()\n",
    "\n",
    "    # open the input file in write  mode\n",
    "    fin = open('example.txt', 'wt')\n",
    "\n",
    "    # overrite the input file with the resulting data\n",
    "    fin.write(data)\n",
    "\n",
    "    # close the file\n",
    "    fin.close()"
   ]
  },
  {
   "cell_type": "code",
   "execution_count": 15,
   "metadata": {},
   "outputs": [],
   "source": [
    "replace_content('example.txt', 'placement', 'screening')"
   ]
  },
  {
   "cell_type": "code",
   "execution_count": 16,
   "metadata": {},
   "outputs": [],
   "source": [
    "# 2. Demonstrate use of abstract class, multiple inheritance and decorator in python using examples."
   ]
  },
  {
   "cell_type": "code",
   "execution_count": 18,
   "metadata": {},
   "outputs": [
    {
     "name": "stdout",
     "output_type": "stream",
     "text": [
      "The mileage is 30kmph\n",
      "The mileage is 25kmph\n",
      "The mileage is 27kmph\n"
     ]
    }
   ],
   "source": [
    "# Abstract class is a class that consists of one or more abstract method is called the abstract class. Abstract methods do not contain their implementation. Abstract class can be inherited bythe subclass and abstract method gets its definition in the subclass.\n",
    "\n",
    "from abc import ABC, abstractmethod\n",
    "\n",
    "class Car(ABC):\n",
    "    def mileage(self):\n",
    "        pass\n",
    "    \n",
    "class Tesla(Car):\n",
    "    def mileage(self):\n",
    "        print('The mileage is 30kmph')\n",
    "        \n",
    "class Suzuki(Car):\n",
    "    def mileage(self):\n",
    "        print('The mileage is 25kmph')\n",
    "        \n",
    "class Renault(Car):\n",
    "    def mileage(self):\n",
    "        print('The mileage is 27kmph')\n",
    "        \n",
    "t = Tesla()\n",
    "t.mileage()\n",
    "\n",
    "s = Suzuki()\n",
    "s.mileage()\n",
    "\n",
    "r = Renault()\n",
    "r.mileage()"
   ]
  },
  {
   "cell_type": "code",
   "execution_count": 19,
   "metadata": {},
   "outputs": [
    {
     "name": "stdout",
     "output_type": "stream",
     "text": [
      "Father Enjoys Driving\n",
      "Mother Enjoys Cooking\n",
      "Child Loves Playing\n"
     ]
    }
   ],
   "source": [
    "# Multiple inheritance -> When a class is deried from more than one base class it is called multiple Inheritance. The derived class inherits all the features of the base case.\n",
    "\n",
    "class Father():\n",
    "    def Driving(self):\n",
    "        print('Father Enjoys Driving')\n",
    "        \n",
    "class Mother():\n",
    "    def Cooking(self):\n",
    "        print('Mother Enjoys Cooking')\n",
    "        \n",
    "class Child(Father, Mother):\n",
    "    def Playing(self):\n",
    "        print('Child Loves Playing')\n",
    "        \n",
    "c = Child()\n",
    "c.Driving()\n",
    "c.Cooking()\n",
    "c.Playing()\n",
    "\n",
    "# Here, the Father and Mother are the Base classes where we have two print statements and a child class that contains all the methods of the father and mother class.\n",
    "# The child class is also known as Derived class.\n",
    "# We are creating the object for the child class through which we can accesss the functions of father, mother, and child."
   ]
  },
  {
   "cell_type": "code",
   "execution_count": 21,
   "metadata": {},
   "outputs": [
    {
     "name": "stdout",
     "output_type": "stream",
     "text": [
      "Function: daily_backup\n",
      "Run on: 2022-06-08 14:16:55\n",
      "------------------------------\n",
      "Daily backup job has finished.\n"
     ]
    }
   ],
   "source": [
    "# Decorator - We will use a decorator when you need to change the behaviour of a function without modifying the function itself.\n",
    "# A few good examples are when you want to add logging, test performance, performance caching, verify permissions, and so on.\n",
    "\n",
    "from datetime import datetime\n",
    "\n",
    "def log_datetime(func):\n",
    "    \"\"\"Log the date and time of a function\"\"\"\n",
    "    \n",
    "    def wrapper():\n",
    "        print(f'Function: {func.__name__}\\nRun on: {datetime.today().strftime(\"%Y-%m-%d %H:%M:%S\")}')\n",
    "        print(f'{\"-\"*30}')\n",
    "        func()\n",
    "    return wrapper\n",
    "\n",
    "@log_datetime\n",
    "def daily_backup():\n",
    "    print('Daily backup job has finished.')\n",
    "    \n",
    "daily_backup()"
   ]
  }
 ],
 "metadata": {
  "kernelspec": {
   "display_name": "Python 3",
   "language": "python",
   "name": "python3"
  },
  "language_info": {
   "codemirror_mode": {
    "name": "ipython",
    "version": 3
   },
   "file_extension": ".py",
   "mimetype": "text/x-python",
   "name": "python",
   "nbconvert_exporter": "python",
   "pygments_lexer": "ipython3",
   "version": "3.8.5"
  }
 },
 "nbformat": 4,
 "nbformat_minor": 4
}
